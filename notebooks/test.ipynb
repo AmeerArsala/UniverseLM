{
 "cells": [
  {
   "cell_type": "code",
   "execution_count": 1,
   "id": "9a4a3a05-a313-40e5-b4cb-f85df2bad40f",
   "metadata": {},
   "outputs": [],
   "source": [
    "import sys\n",
    "\n",
    "# I hate python\n",
    "sys.path.insert(0, \"../\")"
   ]
  },
  {
   "cell_type": "code",
   "execution_count": 6,
   "id": "bf541abb-5278-4979-8b3b-0a9a8f8525c0",
   "metadata": {},
   "outputs": [],
   "source": [
    "from typing import List, Dict\n",
    "from app.lib import society, states, users\n",
    "from app.core.schemas.entities import Chunk\n",
    "from app.core.schemas.info import Lore, Belonging"
   ]
  },
  {
   "cell_type": "code",
   "execution_count": null,
   "id": "c1e06079-45f4-4519-8171-7d2e643810c1",
   "metadata": {},
   "outputs": [],
   "source": [
    "user_email: str = \"aarsala@calpoly.edu\"\n",
    "community_name: str = \"test-community\"\n",
    "\n",
    "# Create User\n",
    "user_id: int = society.create_user(email=user_email)\n",
    "print(f\"User {user_id}: {user_email} created.\")\n",
    "\n",
    "# Create Community\n",
    "community_id: int = society.create_community(name=community_name)\n",
    "print(f\"Community {community_id}: {community_name} created.\")\n",
    "\n",
    "# Have User join Community\n",
    "society.join_community(user_email=user_email, community_name=community_name)\n",
    "print(f\"Community {community_name} joined by User.\")"
   ]
  },
  {
   "cell_type": "code",
   "execution_count": 3,
   "id": "0193a9ab-f7da-4083-98f2-1d080faa3e85",
   "metadata": {},
   "outputs": [
    {
     "name": "stderr",
     "output_type": "stream",
     "text": [
      "/home/noctezeta/Content/Projects/UniverseLM/notebooks/../app/lib/states.py:134: FutureWarning: unique with argument that is not not a Series, Index, ExtensionArray, or np.ndarray is deprecated and will raise in a future version.\n",
      "  lore_texts: List[str] = pd.unique([result[0] for result in results]).tolist()\n",
      "/home/noctezeta/Content/Projects/UniverseLM/notebooks/../app/lib/states.py:154: FutureWarning: unique with argument that is not not a Series, Index, ExtensionArray, or np.ndarray is deprecated and will raise in a future version.\n",
      "  belongings_texts: List[str] = pd.unique(\n"
     ]
    },
    {
     "name": "stdout",
     "output_type": "stream",
     "text": [
      "Community startup complete.\n"
     ]
    },
    {
     "name": "stderr",
     "output_type": "stream",
     "text": [
      "/home/noctezeta/Content/Projects/UniverseLM/notebooks/../app/lib/states.py:174: FutureWarning: unique with argument that is not not a Series, Index, ExtensionArray, or np.ndarray is deprecated and will raise in a future version.\n",
      "  profiles_texts: List[str] = pd.unique(\n"
     ]
    }
   ],
   "source": [
    "# Start up Community\n",
    "community_id: int = 1\n",
    "await states.startup(community_id=community_id)"
   ]
  },
  {
   "cell_type": "code",
   "execution_count": 3,
   "id": "d9cb20e1-05b2-4a43-975d-6e7e65245dfe",
   "metadata": {},
   "outputs": [
    {
     "name": "stdout",
     "output_type": "stream",
     "text": [
      "OUTPUT START\n",
      "[\n",
      "{\n",
      "\"Name\": \"Judd the Bounty Hunter\",\n",
      "\"Description\": \"A formidable and notorious bounty hunter known for his relentless pursuit of outlaws and his uncanny tracking abilities. He possesses great marksmanship and survival skills.\",\n",
      "\"Affiliation\": \"NONE\"\n",
      "},\n",
      "{\n",
      "\"Name\": \"Sam 'The Sheriff' Watson\",\n",
      "\"Description\": \"A renowned and respected sheriff in the community, known for his unwavering integrity and strong leadership. Sam enforces the law and maintains order in the town, gaining the trust of the locals.\",\n",
      "\"Affiliation\": \"NONE\"\n",
      "},\n",
      "{\n",
      "\"Name\": \"The Dalton Gang\",\n",
      "\"Description\": \"A group of mischievous and notorious outlaws who specialize in causing chaos and terrorizing towns. They are known for their quick fingers, sharp shooting, and daring robberies.\",\n",
      "\"Affiliation\": \"NONE\"\n",
      "},\n",
      "{\n",
      "\"Name\": \"Lila the Gunsmith\",\n",
      "\"Description\": \"A skilled and infamous gunsmith who provides precision-crafted weapons to both outlaws and law-abiding citizens. Her creations are highly sought after for their unique designs and deadly accuracy.\",\n",
      "\"Affiliation\": \"NONE\"\n",
      "},\n",
      "{\n",
      "\"Name\": \"The Saloon\",\n",
      "\"Description\": \"A lively establishment where locals gather to share tales, drink, and find solace from the hardships of the West. It serves as a microcosm of the town's vibrant yet rough-and-tumble culture.\",\n",
      "\"Affiliation\": \"NONE\"\n",
      "},\n",
      "{\n",
      "\"Name\": \"The Frontier Cabin\",\n",
      "\"Description\": \"A rustic and hardy cabin, deep in the heart of the wilderness, serves as a refuge for the mysterious figure, 'The Lone Drifter'. Known for its seclusion and the secrets that it holds.\",\n",
      "\"Affiliation\": \"NONE\"\n",
      "}\n",
      "]\n"
     ]
    }
   ],
   "source": [
    "# Make Chunks\n",
    "chunks: List[Chunk] = society.generate_chunks(community_id, desc=\"the wild west\")"
   ]
  },
  {
   "cell_type": "code",
   "execution_count": 4,
   "id": "75a1a941-bb14-4309-8f0c-00a4dcd9e3af",
   "metadata": {},
   "outputs": [
    {
     "data": {
      "text/plain": [
       "[Chunk(id=-1, name='Judd the Bounty Hunter', profile='A formidable and notorious bounty hunter known for his relentless pursuit of outlaws and his uncanny tracking abilities. He possesses great marksmanship and survival skills.', community_id=5, parent_chunk='NONE'),\n",
       " Chunk(id=-1, name=\"Sam 'The Sheriff' Watson\", profile='A renowned and respected sheriff in the community, known for his unwavering integrity and strong leadership. Sam enforces the law and maintains order in the town, gaining the trust of the locals.', community_id=5, parent_chunk='NONE'),\n",
       " Chunk(id=-1, name='The Dalton Gang', profile='A group of mischievous and notorious outlaws who specialize in causing chaos and terrorizing towns. They are known for their quick fingers, sharp shooting, and daring robberies.', community_id=5, parent_chunk='NONE'),\n",
       " Chunk(id=-1, name='Lila the Gunsmith', profile='A skilled and infamous gunsmith who provides precision-crafted weapons to both outlaws and law-abiding citizens. Her creations are highly sought after for their unique designs and deadly accuracy.', community_id=5, parent_chunk='NONE'),\n",
       " Chunk(id=-1, name='The Saloon', profile=\"A lively establishment where locals gather to share tales, drink, and find solace from the hardships of the West. It serves as a microcosm of the town's vibrant yet rough-and-tumble culture.\", community_id=5, parent_chunk='NONE'),\n",
       " Chunk(id=-1, name='The Frontier Cabin', profile=\"A rustic and hardy cabin, deep in the heart of the wilderness, serves as a refuge for the mysterious figure, 'The Lone Drifter'. Known for its seclusion and the secrets that it holds.\", community_id=5, parent_chunk='NONE')]"
      ]
     },
     "execution_count": 4,
     "metadata": {},
     "output_type": "execute_result"
    }
   ],
   "source": [
    "chunks"
   ]
  },
  {
   "cell_type": "code",
   "execution_count": 4,
   "id": "3985ceb9-bc41-4e24-98fa-8e8014f39f5e",
   "metadata": {},
   "outputs": [],
   "source": [
    "test_community_id: int = 1\n",
    "\n",
    "chunks: List[Chunk] = [Chunk(id=-1, name='Judd the Bounty Hunter', profile='A formidable and notorious bounty hunter known for his relentless pursuit of outlaws and his uncanny tracking abilities. He possesses great marksmanship and survival skills.', community_id=test_community_id, parent_chunk='NONE'),\n",
    " Chunk(id=-1, name=\"Sam 'The Sheriff' Watson\", profile='A renowned and respected sheriff in the community, known for his unwavering integrity and strong leadership. Sam enforces the law and maintains order in the town, gaining the trust of the locals.', community_id=test_community_id, parent_chunk='NONE'),\n",
    " Chunk(id=-1, name='The Dalton Gang', profile='A group of mischievous and notorious outlaws who specialize in causing chaos and terrorizing towns. They are known for their quick fingers, sharp shooting, and daring robberies.', community_id=test_community_id, parent_chunk='NONE'),\n",
    " Chunk(id=-1, name='Lila the Gunsmith', profile='A skilled and infamous gunsmith who provides precision-crafted weapons to both outlaws and law-abiding citizens. Her creations are highly sought after for their unique designs and deadly accuracy.', community_id=test_community_id, parent_chunk='NONE'),\n",
    " Chunk(id=-1, name='The Saloon', profile=\"A lively establishment where locals gather to share tales, drink, and find solace from the hardships of the West. It serves as a microcosm of the town's vibrant yet rough-and-tumble culture.\", community_id=test_community_id, parent_chunk='NONE'),\n",
    " Chunk(id=-1, name='The Frontier Cabin', profile=\"A rustic and hardy cabin, deep in the heart of the wilderness, serves as a refuge for the mysterious figure, 'The Lone Drifter'. Known for its seclusion and the secrets that it holds.\", community_id=test_community_id, parent_chunk='NONE')]"
   ]
  },
  {
   "cell_type": "code",
   "execution_count": 5,
   "id": "c34c5088-95cc-4b52-bbf3-108e23d65a62",
   "metadata": {},
   "outputs": [],
   "source": [
    "test_user_id: int = 1\n",
    "inhabited_chunk_name: str = \"Sam 'The Sheriff' Watson\""
   ]
  },
  {
   "cell_type": "code",
   "execution_count": 9,
   "id": "0da40300-5717-4f15-93d9-8cb94e52f289",
   "metadata": {},
   "outputs": [
    {
     "name": "stdout",
     "output_type": "stream",
     "text": [
      "{'id0': 454456629871209, 'name0': 'Judd the Bounty Hunter', 'profile0': 'A formidable and notorious bounty hunter known for his relentless pursuit of outlaws and his uncanny tracking abilities. He possesses great marksmanship and survival skills.', 'community_id0': 1, 'parent_chunk0': None}\n",
      "{'id1': 402141388418914, 'name1': \"Sam 'The Sheriff' Watson\", 'profile1': 'A renowned and respected sheriff in the community, known for his unwavering integrity and strong leadership. Sam enforces the law and maintains order in the town, gaining the trust of the locals.', 'community_id1': 1, 'parent_chunk1': None}\n",
      "{'id2': 719327691670344, 'name2': 'The Dalton Gang', 'profile2': 'A group of mischievous and notorious outlaws who specialize in causing chaos and terrorizing towns. They are known for their quick fingers, sharp shooting, and daring robberies.', 'community_id2': 1, 'parent_chunk2': None}\n",
      "{'id3': 638119273393243, 'name3': 'Lila the Gunsmith', 'profile3': 'A skilled and infamous gunsmith who provides precision-crafted weapons to both outlaws and law-abiding citizens. Her creations are highly sought after for their unique designs and deadly accuracy.', 'community_id3': 1, 'parent_chunk3': None}\n",
      "{'id4': 398576228518276, 'name4': 'The Saloon', 'profile4': \"A lively establishment where locals gather to share tales, drink, and find solace from the hardships of the West. It serves as a microcosm of the town's vibrant yet rough-and-tumble culture.\", 'community_id4': 1, 'parent_chunk4': None}\n",
      "{'id5': 135315770774007, 'name5': 'The Frontier Cabin', 'profile5': \"A rustic and hardy cabin, deep in the heart of the wilderness, serves as a refuge for the mysterious figure, 'The Lone Drifter'. Known for its seclusion and the secrets that it holds.\", 'community_id5': 1, 'parent_chunk5': None}\n"
     ]
    }
   ],
   "source": [
    "# Upload Chunks to DB\n",
    "society.create_chunks(chunks)"
   ]
  },
  {
   "cell_type": "code",
   "execution_count": 6,
   "id": "9b82dc07-2d40-4f46-93df-2d5897651ce2",
   "metadata": {},
   "outputs": [],
   "source": [
    "# Have User [locally] inhabit a Chunk\n",
    "users.inhabit_chunk(user_id=test_user_id, community_id=test_community_id, chunk_name=inhabited_chunk_name)"
   ]
  },
  {
   "cell_type": "code",
   "execution_count": 1,
   "id": "de082f55-4ecf-45cc-81d0-b22c6a241beb",
   "metadata": {},
   "outputs": [
    {
     "name": "stdout",
     "output_type": "stream",
     "text": [
      "Using CUDA\n"
     ]
    },
    {
     "name": "stderr",
     "output_type": "stream",
     "text": [
      "/home/noctezeta/micromamba/envs/universe-lm/lib/python3.10/site-packages/huggingface_hub/file_download.py:1132: FutureWarning: `resume_download` is deprecated and will be removed in version 1.0.0. Downloads always resume when possible. If you want to force a new download, use `force_download=True`.\n",
      "  warnings.warn(\n",
      "/home/noctezeta/micromamba/envs/universe-lm/lib/python3.10/site-packages/langchain_core/_api/deprecation.py:119: LangChainDeprecationWarning: The class `HuggingFaceHub` was deprecated in LangChain 0.0.21 and will be removed in 0.3.0. Use HuggingFaceEndpoint instead.\n",
      "  warn_deprecated(\n",
      "/home/noctezeta/Content/Projects/UniverseLM/notebooks/../app/lib/states.py:134: FutureWarning: unique with argument that is not not a Series, Index, ExtensionArray, or np.ndarray is deprecated and will raise in a future version.\n",
      "  lore_texts: List[str] = pd.unique([result[0] for result in results]).tolist()\n",
      "/home/noctezeta/Content/Projects/UniverseLM/notebooks/../app/lib/states.py:154: FutureWarning: unique with argument that is not not a Series, Index, ExtensionArray, or np.ndarray is deprecated and will raise in a future version.\n",
      "  belongings_texts: List[str] = pd.unique(\n"
     ]
    },
    {
     "name": "stdout",
     "output_type": "stream",
     "text": [
      "Community startup complete.\n"
     ]
    },
    {
     "name": "stderr",
     "output_type": "stream",
     "text": [
      "/home/noctezeta/Content/Projects/UniverseLM/notebooks/../app/lib/states.py:174: FutureWarning: unique with argument that is not not a Series, Index, ExtensionArray, or np.ndarray is deprecated and will raise in a future version.\n",
      "  profiles_texts: List[str] = pd.unique(\n"
     ]
    }
   ],
   "source": [
    "## TEMPORARY\n",
    "\n",
    "import sys\n",
    "\n",
    "# I hate python\n",
    "sys.path.insert(0, \"../\")\n",
    "\n",
    "\n",
    "from typing import List, Dict\n",
    "from app.lib import society, states, users\n",
    "from app.core.schemas.entities import Chunk\n",
    "from app.core.schemas.info import Lore, Belonging\n",
    "\n",
    "\n",
    "# Start up Community\n",
    "community_id: int = 1\n",
    "await states.startup(community_id=community_id)\n",
    "\n",
    "\n",
    "test_community_id: int = 1\n",
    "\n",
    "chunks: List[Chunk] = [Chunk(id=-1, name='Judd the Bounty Hunter', profile='A formidable and notorious bounty hunter known for his relentless pursuit of outlaws and his uncanny tracking abilities. He possesses great marksmanship and survival skills.', community_id=test_community_id, parent_chunk='NONE'),\n",
    " Chunk(id=-1, name=\"Sam 'The Sheriff' Watson\", profile='A renowned and respected sheriff in the community, known for his unwavering integrity and strong leadership. Sam enforces the law and maintains order in the town, gaining the trust of the locals.', community_id=test_community_id, parent_chunk='NONE'),\n",
    " Chunk(id=-1, name='The Dalton Gang', profile='A group of mischievous and notorious outlaws who specialize in causing chaos and terrorizing towns. They are known for their quick fingers, sharp shooting, and daring robberies.', community_id=test_community_id, parent_chunk='NONE'),\n",
    " Chunk(id=-1, name='Lila the Gunsmith', profile='A skilled and infamous gunsmith who provides precision-crafted weapons to both outlaws and law-abiding citizens. Her creations are highly sought after for their unique designs and deadly accuracy.', community_id=test_community_id, parent_chunk='NONE'),\n",
    " Chunk(id=-1, name='The Saloon', profile=\"A lively establishment where locals gather to share tales, drink, and find solace from the hardships of the West. It serves as a microcosm of the town's vibrant yet rough-and-tumble culture.\", community_id=test_community_id, parent_chunk='NONE'),\n",
    " Chunk(id=-1, name='The Frontier Cabin', profile=\"A rustic and hardy cabin, deep in the heart of the wilderness, serves as a refuge for the mysterious figure, 'The Lone Drifter'. Known for its seclusion and the secrets that it holds.\", community_id=test_community_id, parent_chunk='NONE')]\n",
    "\n",
    "\n",
    "test_user_id: int = 1\n",
    "inhabited_chunk_name: str = \"Sam 'The Sheriff' Watson\"\n",
    "\n",
    "\n",
    "# Have User [locally] inhabit a Chunk\n",
    "users.inhabit_chunk(user_id=test_user_id, community_id=test_community_id, chunk_name=inhabited_chunk_name)"
   ]
  },
  {
   "cell_type": "code",
   "execution_count": 2,
   "id": "b1f3d733-659e-456d-b3d5-802c8c31bb97",
   "metadata": {},
   "outputs": [],
   "source": [
    "from app.lib.chat import AgentChat, AgentChatParams, manifest_chat\n",
    "\n",
    "\n",
    "async def chat_with_agent(community_id: int, chunk_name: str, user_id: int, message: str, stream_response: bool):\n",
    "    # manifest the chat from nothing or a cache\n",
    "    chat: AgentChat = manifest_chat(community_id, chunk_name, stream_response=stream_response)\n",
    "\n",
    "    #return chat.chat_history\n",
    "\n",
    "    # Get chat params based on which chunk the user is currently inhabiting\n",
    "    agent_chat_params: AgentChatParams = users.make_chat_input(user_id=user_id, message=message)\n",
    "    agent_chat_inputs: Dict = agent_chat_params.dict()\n",
    "\n",
    "    # Chat response\n",
    "    print(\"Generating response...\")\n",
    "    if stream_response:\n",
    "        await chat.generate_chat_response_events(agent_chat_inputs, add_to_history=True, print_chunks=True)\n",
    "    else:\n",
    "        # not async\n",
    "        invocation = chat.invoke_chat(agent_chat_inputs, add_to_history=True)\n",
    "        response: str = invocation[\"answer\"]\n",
    "\n",
    "        print(response)"
   ]
  },
  {
   "cell_type": "code",
   "execution_count": 3,
   "id": "b963ca73-60e0-4d28-86d3-a4bc7531d916",
   "metadata": {},
   "outputs": [
    {
     "name": "stderr",
     "output_type": "stream",
     "text": [
      "/home/noctezeta/micromamba/envs/universe-lm/lib/python3.10/site-packages/huggingface_hub/file_download.py:1132: FutureWarning: `resume_download` is deprecated and will be removed in version 1.0.0. Downloads always resume when possible. If you want to force a new download, use `force_download=True`.\n",
      "  warnings.warn(\n"
     ]
    },
    {
     "name": "stdout",
     "output_type": "stream",
     "text": [
      "Generating response...\n",
      "Attempting lore update...\n",
      "Summarizing chat history...\n",
      "Deciding whether to memorize info...\n"
     ]
    },
    {
     "name": "stderr",
     "output_type": "stream",
     "text": [
      "/home/noctezeta/micromamba/envs/universe-lm/lib/python3.10/site-packages/huggingface_hub/file_download.py:1132: FutureWarning: `resume_download` is deprecated and will be removed in version 1.0.0. Downloads always resume when possible. If you want to force a new download, use `force_download=True`.\n",
      "  warnings.warn(\n"
     ]
    },
    {
     "name": "stdout",
     "output_type": "stream",
     "text": [
      "confirm_memorize: CONTENT START\n",
      "<QA>\n",
      "Q1: Did the user explicitly express intent that they want you to memorize/remember a piece of information?\n",
      "A1: NO\n",
      "\n",
      "Q2: Is the new given information actually new information that you haven't heard before / wasn't obvious (such as a new event)? That is, if you were to tell a story about the information you've heard, would this be included as lore in the story?\n",
      "A2: YES\n",
      "\n",
      "Q4: Does the given information change one's perspective on prior information? Does there exist any information within the new information that adds anything meaningful?\n",
      "A3: YES</QA>\n",
      "Memorizing...\n",
      "extract_lore: START\n",
      "{'all_entities': \"Judd the Bounty Hunter\\nSam 'The Sheriff' Watson\\nThe Dalton Gang\\nLila the Gunsmith\\nThe Saloon\\nThe Frontier Cabin\", 'context': 'N/A', 'info': \"Sam 'The Sheriff' Watson - Hey, I'm looking for some wanted criminals\"}\n",
      "extract_lore: {'extracted_info': \"Sam 'The Sheriff' Watson is currently in pursuit of some wanted criminals.\", 'about_entities': [\"Sam 'The Sheriff' Watson\"], 'valid_output': True}\n"
     ]
    },
    {
     "name": "stderr",
     "output_type": "stream",
     "text": [
      "/home/noctezeta/Content/Projects/UniverseLM/notebooks/../app/lib/states.py:134: FutureWarning: unique with argument that is not not a Series, Index, ExtensionArray, or np.ndarray is deprecated and will raise in a future version.\n",
      "  lore_texts: List[str] = pd.unique([result[0] for result in results]).tolist()\n"
     ]
    },
    {
     "name": "stdout",
     "output_type": "stream",
     "text": [
      "Deciding whether to reprofile...\n",
      "Deciding whether query warrants retrieval...\n",
      "Retrieving relevant info and responding...\n"
     ]
    },
    {
     "name": "stderr",
     "output_type": "stream",
     "text": [
      "/home/noctezeta/micromamba/envs/universe-lm/lib/python3.10/site-packages/huggingface_hub/file_download.py:1132: FutureWarning: `resume_download` is deprecated and will be removed in version 1.0.0. Downloads always resume when possible. If you want to force a new download, use `force_download=True`.\n",
      "  warnings.warn(\n"
     ]
    },
    {
     "name": "stdout",
     "output_type": "stream",
     "text": [
      "Hisheeewww ~ ~ ~ ~ ~\n",
      "\n",
      "excuse me, but are you lookin' ta get yerself into trouble? \n",
      "\n",
      "I can hook you up with some flashy guns, but the Dalton Gang are wanted villains here. Ya still wanna go down that path? \n",
      "\n",
      "Honest warning, they're a buncha troublemakers. \n",
      "\n",
      "Ya need guns, I got guns. But I won't be pullin' any punches if ya get caught with those wanted folk. \n",
      "\n",
      "Fair warnin'!\n"
     ]
    }
   ],
   "source": [
    "# Have User chat with another Chunk\n",
    "chunk_to_talk_to: str = 'Lila the Gunsmith'\n",
    "\n",
    "await chat_with_agent(community_id=test_community_id, \n",
    "                chunk_name=chunk_to_talk_to, \n",
    "                user_id=test_user_id,\n",
    "                message=\"Hey, I'm looking for some wanted criminals\",\n",
    "                stream_response=False)"
   ]
  },
  {
   "cell_type": "code",
   "execution_count": 4,
   "id": "b4be483f-1219-4976-b612-39f0c29127f8",
   "metadata": {},
   "outputs": [
    {
     "name": "stdout",
     "output_type": "stream",
     "text": [
      "Generating response...\n",
      "Attempting lore update...\n",
      "Summarizing chat history...\n",
      "convo_summarizer - OUTPUT: {'missing_entities': 'Lila the Gunsmith', 'denser_summary': \"Sam 'The Sheriff' Watson is looking for some wanted criminals. Lila the Gunsmith warns him that the Dalton Gang are wanted villains and advises him against it. She offers Sam guns but warns he will be in deep trouble if caught with the Dalton Gang.\"}\n",
      "SUMMARY:\n",
      "Sam 'The Sheriff' Watson is looking for some wanted criminals. Lila the Gunsmith warns him that the Dalton Gang are wanted villains and advises him against it. She offers Sam guns but warns he will be in deep trouble if caught with the Dalton Gang.\n",
      "Deciding whether to memorize info...\n"
     ]
    },
    {
     "name": "stderr",
     "output_type": "stream",
     "text": [
      "/home/noctezeta/micromamba/envs/universe-lm/lib/python3.10/site-packages/huggingface_hub/file_download.py:1132: FutureWarning: `resume_download` is deprecated and will be removed in version 1.0.0. Downloads always resume when possible. If you want to force a new download, use `force_download=True`.\n",
      "  warnings.warn(\n"
     ]
    },
    {
     "name": "stdout",
     "output_type": "stream",
     "text": [
      "confirm_memorize: CONTENT START\n",
      "<QA>\n",
      "Q1: Did the user explicitly express intent that they want you to memorize/remember a piece of information?\n",
      "A1: NO\n",
      "\n",
      "Q2: Is the new given information actually new information that you haven't heard before / wasn't obvious (such as a new event)? That is, if you were to tell a story about the information you've heard, would this be included as lore in the story?\n",
      "A2: YES\n",
      "\n",
      "Q4: Does the given information change one's perspective on prior information? Does there exist any information within the new information that adds anything meaningful?\n",
      "A3: YES</QA>\n",
      "Memorizing...\n",
      "extract_lore: START\n",
      "{'all_entities': \"Judd the Bounty Hunter\\nSam 'The Sheriff' Watson\\nThe Dalton Gang\\nLila the Gunsmith\\nThe Saloon\\nThe Frontier Cabin\", 'context': \"Sam 'The Sheriff' Watson is looking for some wanted criminals. Lila the Gunsmith warns him that the Dalton Gang are wanted villains and advises him against it. She offers Sam guns but warns he will be in deep trouble if caught with the Dalton Gang.\", 'info': \"Sam 'The Sheriff' Watson - Do you know where I can learn more about where to find them?\"}\n",
      "extract_lore: {'extracted_info': \"Sam 'The Sheriff' Watson is seeking information about the location of the Dalton Gang.\", 'about_entities': [\"Sam 'The Sheriff' Watson\", 'The Dalton Gang'], 'valid_output': True}\n"
     ]
    },
    {
     "name": "stderr",
     "output_type": "stream",
     "text": [
      "/home/noctezeta/Content/Projects/UniverseLM/notebooks/../app/lib/states.py:134: FutureWarning: unique with argument that is not not a Series, Index, ExtensionArray, or np.ndarray is deprecated and will raise in a future version.\n",
      "  lore_texts: List[str] = pd.unique([result[0] for result in results]).tolist()\n"
     ]
    },
    {
     "name": "stdout",
     "output_type": "stream",
     "text": [
      "Deciding whether to reprofile...\n",
      "Deciding whether query warrants retrieval...\n",
      "Retrieving relevant info and responding...\n"
     ]
    },
    {
     "name": "stderr",
     "output_type": "stream",
     "text": [
      "/home/noctezeta/micromamba/envs/universe-lm/lib/python3.10/site-packages/huggingface_hub/file_download.py:1132: FutureWarning: `resume_download` is deprecated and will be removed in version 1.0.0. Downloads always resume when possible. If you want to force a new download, use `force_download=True`.\n",
      "  warnings.warn(\n"
     ]
    },
    {
     "name": "stdout",
     "output_type": "stream",
     "text": [
      "Hisheeewww, oh do you? \n",
      "\n",
      "I can point ya to Judd the Bounty Hunter if ya want. \n",
      "\n",
      "That cat always knows where the action is, the bad and the good. \n",
      "\n",
      "Word on the street is he made some promises to the Daltons once. I doubt he'd be direct with where they are though, that information is like gold! \n",
      "\n",
      "Only thing worth more is the sheriff's star and that's on a different treasure map. \n",
      "\n",
      "See ya out there!\n"
     ]
    }
   ],
   "source": [
    "await chat_with_agent(community_id=test_community_id, \n",
    "                chunk_name=chunk_to_talk_to, \n",
    "                user_id=test_user_id,\n",
    "                message=\"Do you know where I can learn more about where to find them?\",\n",
    "                stream_response=False)"
   ]
  },
  {
   "cell_type": "code",
   "execution_count": 5,
   "id": "a95bdced-b2c6-4f0f-89ef-669552a549e2",
   "metadata": {},
   "outputs": [
    {
     "name": "stdout",
     "output_type": "stream",
     "text": [
      "Generating response...\n",
      "Attempting lore update...\n",
      "Summarizing chat history...\n",
      "convo_summarizer - OUTPUT: {'missing_entities': 'Lila the Gunsmith', 'denser_summary': \"Local gunsmith, Lila, warns Sheriff Sam Watson about the Dalton Gang, wanted villains in town. Lila offers guns but warns of the consequences of getting caught with the criminals. She suggests talking to Judd the Bounty Hunter for knowledge on the gang's whereabouts, though warns he won't be straightforward.\"}\n",
      "SUMMARY:\n",
      "Local gunsmith, Lila, warns Sheriff Sam Watson about the Dalton Gang, wanted villains in town. Lila offers guns but warns of the consequences of getting caught with the criminals. She suggests talking to Judd the Bounty Hunter for knowledge on the gang's whereabouts, though warns he won't be straightforward.\n",
      "Deciding whether to memorize info...\n"
     ]
    },
    {
     "name": "stderr",
     "output_type": "stream",
     "text": [
      "/home/noctezeta/micromamba/envs/universe-lm/lib/python3.10/site-packages/huggingface_hub/file_download.py:1132: FutureWarning: `resume_download` is deprecated and will be removed in version 1.0.0. Downloads always resume when possible. If you want to force a new download, use `force_download=True`.\n",
      "  warnings.warn(\n"
     ]
    },
    {
     "name": "stdout",
     "output_type": "stream",
     "text": [
      "confirm_memorize: CONTENT START\n",
      "<QA>\n",
      "Q1: Did the user explicitly express intent that they want you to memorize/remember a piece of information?\n",
      "A1: NO\n",
      "\n",
      "Q2: Is the new given information actually new information that you haven't heard before / wasn't obvious (such as a new event)? That is, if you were to tell a story about the information you've heard, would this be included as lore in the story?\n",
      "A2: YES\n",
      "\n",
      "Q4: Does the given information change one's perspective on prior information? Does there exist any information within the new information that adds anything meaningful?\n",
      "A3: YES</QA>\n",
      "Memorizing...\n",
      "extract_lore: START\n",
      "{'all_entities': \"Judd the Bounty Hunter\\nSam 'The Sheriff' Watson\\nThe Dalton Gang\\nLila the Gunsmith\\nThe Saloon\\nThe Frontier Cabin\", 'context': \"Local gunsmith, Lila, warns Sheriff Sam Watson about the Dalton Gang, wanted villains in town. Lila offers guns but warns of the consequences of getting caught with the criminals. She suggests talking to Judd the Bounty Hunter for knowledge on the gang's whereabouts, though warns he won't be straightforward.\", 'info': \"Sam 'The Sheriff' Watson - I just went to the Saloon, but he wasn't there and the locals say that he's usually there around this time\"}\n",
      "extract_lore: {'extracted_info': \"Sheriff Sam Watson visited The Saloon, but did not find the individual he was searching for. Locals shared that the Sheriff's usual haunt is The Saloon, implying that his absence is unusual.\", 'about_entities': [\"Sam 'The Sheriff' Watson\", 'The Saloon'], 'valid_output': True}\n"
     ]
    },
    {
     "name": "stderr",
     "output_type": "stream",
     "text": [
      "/home/noctezeta/Content/Projects/UniverseLM/notebooks/../app/lib/states.py:134: FutureWarning: unique with argument that is not not a Series, Index, ExtensionArray, or np.ndarray is deprecated and will raise in a future version.\n",
      "  lore_texts: List[str] = pd.unique([result[0] for result in results]).tolist()\n"
     ]
    },
    {
     "name": "stdout",
     "output_type": "stream",
     "text": [
      "Deciding whether to reprofile...\n",
      "Deciding whether query warrants retrieval...\n",
      "Retrieving relevant info and responding...\n"
     ]
    },
    {
     "name": "stderr",
     "output_type": "stream",
     "text": [
      "/home/noctezeta/micromamba/envs/universe-lm/lib/python3.10/site-packages/huggingface_hub/file_download.py:1132: FutureWarning: `resume_download` is deprecated and will be removed in version 1.0.0. Downloads always resume when possible. If you want to force a new download, use `force_download=True`.\n",
      "  warnings.warn(\n"
     ]
    },
    {
     "name": "stdout",
     "output_type": "stream",
     "text": [
      "Hisheeewww, somethin's up then? \n",
      "\n",
      "The Saloon is his haunt, that don't usually change. Unless he's on the chase himself! \n",
      "\n",
      "I wouldn't stress, the bounty hunter always comes back to the same spots, ya just have to watch and wait. \n",
      "\n",
      "Keep your powder dry and your guns ready.\n"
     ]
    }
   ],
   "source": [
    "await chat_with_agent(community_id=test_community_id, \n",
    "                chunk_name=chunk_to_talk_to, \n",
    "                user_id=test_user_id,\n",
    "                message=\"I just went to the Saloon, but he wasn't there and the locals say that he's usually there around this time\",\n",
    "                stream_response=False)"
   ]
  },
  {
   "cell_type": "code",
   "execution_count": 6,
   "id": "821ed0d4-5a21-466b-b949-91503b5d46aa",
   "metadata": {},
   "outputs": [
    {
     "name": "stdout",
     "output_type": "stream",
     "text": [
      "Generating response...\n",
      "Attempting lore update...\n",
      "Summarizing chat history...\n",
      "convo_summarizer - OUTPUT: {'missing_entities': 'Lila the Gunsmith', 'denser_summary': \"Lila the Gunsmith warns Sam 'The Sheriff' Watson about getting involved with the Dalton Gang, who are wanted villains. Despite warning him, Watson is adamant about finding them. Lila suggests going to Judd the Bounty Hunter for information, but warns he might not be helpful. She also mentions that Judd is usually at the Saloon, but hasn't been seen there recently.\"}\n",
      "SUMMARY:\n",
      "Lila the Gunsmith warns Sam 'The Sheriff' Watson about getting involved with the Dalton Gang, who are wanted villains. Despite warning him, Watson is adamant about finding them. Lila suggests going to Judd the Bounty Hunter for information, but warns he might not be helpful. She also mentions that Judd is usually at the Saloon, but hasn't been seen there recently.\n",
      "Deciding whether to memorize info...\n"
     ]
    },
    {
     "name": "stderr",
     "output_type": "stream",
     "text": [
      "/home/noctezeta/micromamba/envs/universe-lm/lib/python3.10/site-packages/huggingface_hub/file_download.py:1132: FutureWarning: `resume_download` is deprecated and will be removed in version 1.0.0. Downloads always resume when possible. If you want to force a new download, use `force_download=True`.\n",
      "  warnings.warn(\n"
     ]
    },
    {
     "name": "stdout",
     "output_type": "stream",
     "text": [
      "confirm_memorize: CONTENT START\n",
      "<QA>\n",
      "Q1: Did the user explicitly express intent that they want you to memorize/remember a piece of information?\n",
      "A1: YES\n",
      "\n",
      "Q2: Is the new given information actually new information that you haven't heard before / wasn't obvious (such as a new event)? That is, if you were to tell a story about the information you've heard, would this be included as lore in the story?\n",
      "A2: YES\n",
      "\n",
      "Q4: Does the given information change one's perspective on prior information? Does there exist any information within the new information that adds anything meaningful?\n",
      "A3: YES</QA>\n",
      "Memorizing...\n",
      "extract_lore: START\n",
      "{'all_entities': \"Judd the Bounty Hunter\\nSam 'The Sheriff' Watson\\nThe Dalton Gang\\nLila the Gunsmith\\nThe Saloon\\nThe Frontier Cabin\", 'context': \"Lila the Gunsmith warns Sam 'The Sheriff' Watson about getting involved with the Dalton Gang, who are wanted villains. Despite warning him, Watson is adamant about finding them. Lila suggests going to Judd the Bounty Hunter for information, but warns he might not be helpful. She also mentions that Judd is usually at the Saloon, but hasn't been seen there recently.\", 'info': \"Sam 'The Sheriff' Watson - OH NO!!! JUDD WAS FOUND WITH BULLETS IN HIS CHEST NEAR THE FRONTIER CABIN!!!\"}\n",
      "extract_lore: {'extracted_info': \"Judd the Bounty Hunter has been found with bullet wounds near The Frontier Cabin, causing great concern for Sam 'The Sheriff' Watson.\", 'about_entities': [\"Sam 'The Sheriff' Watson\", 'Judd the Bounty Hunter', 'The Frontier Cabin'], 'valid_output': True}\n"
     ]
    },
    {
     "name": "stderr",
     "output_type": "stream",
     "text": [
      "/home/noctezeta/Content/Projects/UniverseLM/notebooks/../app/lib/states.py:134: FutureWarning: unique with argument that is not not a Series, Index, ExtensionArray, or np.ndarray is deprecated and will raise in a future version.\n",
      "  lore_texts: List[str] = pd.unique([result[0] for result in results]).tolist()\n"
     ]
    },
    {
     "name": "stdout",
     "output_type": "stream",
     "text": [
      "Deciding whether to reprofile...\n",
      "Deciding whether query warrants retrieval...\n",
      "Retrieving relevant info and responding...\n"
     ]
    },
    {
     "name": "stderr",
     "output_type": "stream",
     "text": [
      "/home/noctezeta/micromamba/envs/universe-lm/lib/python3.10/site-packages/huggingface_hub/file_download.py:1132: FutureWarning: `resume_download` is deprecated and will be removed in version 1.0.0. Downloads always resume when possible. If you want to force a new download, use `force_download=True`.\n",
      "  warnings.warn(\n"
     ]
    },
    {
     "name": "stdout",
     "output_type": "stream",
     "text": [
      "Hisheeewww!!! \n",
      "\n",
      "In trouble or dead, those are the options here! \n",
      "\n",
      "Judd's a tough one, but those bullets could end his bounty hunting once and for all. \n",
      "\n",
      "If he's still breathin', the chase is on to find who shot him. If he's out cold, then someone else might be takin' up that hunt. \n",
      "\n",
      "Better make those guns shiny and deadly, the outlaws are at large and someone just became a lot more powerful... or maybe a bunch of somebodies. \n",
      "\n",
      "This just got a whole lot more complicated!\n"
     ]
    }
   ],
   "source": [
    "await chat_with_agent(community_id=test_community_id, \n",
    "                chunk_name=chunk_to_talk_to, \n",
    "                user_id=test_user_id,\n",
    "                message=\"OH NO!!! JUDD WAS FOUND WITH BULLETS IN HIS CHEST NEAR THE FRONTIER CABIN!!!\",\n",
    "                stream_response=False)"
   ]
  },
  {
   "cell_type": "code",
   "execution_count": 7,
   "id": "cec1c7a2-cdf1-4271-9f25-54788d3c2a2d",
   "metadata": {},
   "outputs": [
    {
     "data": {
      "text/plain": [
       "{1: RawInfo(lore_texts=[\"Sam 'The Sheriff' Watson is currently in pursuit of some wanted criminals.\", \"Sam 'The Sheriff' Watson is seeking information about the location of the Dalton Gang.\", \"Sheriff Sam Watson visited The Saloon, but did not find the individual he was searching for. Locals shared that the Sheriff's usual haunt is The Saloon, implying that his absence is unusual.\", \"Judd the Bounty Hunter has been found with bullet wounds near The Frontier Cabin, causing great concern for Sam 'The Sheriff' Watson.\"], belongings_texts=[], profiles_texts=['Judd the Bounty Hunter - A formidable and notorious bounty hunter known for his relentless pursuit of outlaws and his uncanny tracking abilities. He possesses great marksmanship and survival skills.', \"Sam 'The Sheriff' Watson - A renowned and respected sheriff in the community, known for his unwavering integrity and strong leadership. Sam enforces the law and maintains order in the town, gaining the trust of the locals.\", 'The Dalton Gang - A group of mischievous and notorious outlaws who specialize in causing chaos and terrorizing towns. They are known for their quick fingers, sharp shooting, and daring robberies.', 'Lila the Gunsmith - A skilled and infamous gunsmith who provides precision-crafted weapons to both outlaws and law-abiding citizens. Her creations are highly sought after for their unique designs and deadly accuracy.', \"The Saloon - A lively establishment where locals gather to share tales, drink, and find solace from the hardships of the West. It serves as a microcosm of the town's vibrant yet rough-and-tumble culture.\", \"The Frontier Cabin - A rustic and hardy cabin, deep in the heart of the wilderness, serves as a refuge for the mysterious figure, 'The Lone Drifter'. Known for its seclusion and the secrets that it holds.\"])}"
      ]
     },
     "execution_count": 7,
     "metadata": {},
     "output_type": "execute_result"
    }
   ],
   "source": [
    "states.community_states"
   ]
  },
  {
   "cell_type": "code",
   "execution_count": null,
   "id": "aecc79d4-1acf-479f-8445-128036fee4e3",
   "metadata": {},
   "outputs": [],
   "source": [
    "# Check if the Lore was updated\n",
    "# It is updated"
   ]
  },
  {
   "cell_type": "code",
   "execution_count": null,
   "id": "c509c5cf-4488-4a08-b418-051594d337ed",
   "metadata": {},
   "outputs": [],
   "source": [
    "# Chat with another Chunk to see if it is reacting to changing Lore\n",
    "# Already know this is gonna work"
   ]
  },
  {
   "cell_type": "code",
   "execution_count": null,
   "id": "fccfb0a6-6b14-4b19-8d43-409337ee8a07",
   "metadata": {},
   "outputs": [],
   "source": [
    "# Upload Lore and Belongings, then do the same thing\n",
    "\n",
    "\n"
   ]
  },
  {
   "cell_type": "code",
   "execution_count": null,
   "id": "b88d1c35-5fd9-4b95-b27b-bd3c3d9d2f8a",
   "metadata": {},
   "outputs": [],
   "source": [
    "# Summarize Chunk\n",
    "\n"
   ]
  },
  {
   "cell_type": "code",
   "execution_count": null,
   "id": "ee9ecbfb-334a-417e-b117-75eed37bd810",
   "metadata": {},
   "outputs": [],
   "source": [
    "# Reset Community"
   ]
  }
 ],
 "metadata": {
  "kernelspec": {
   "display_name": "Python 3 (ipykernel)",
   "language": "python",
   "name": "python3"
  },
  "language_info": {
   "codemirror_mode": {
    "name": "ipython",
    "version": 3
   },
   "file_extension": ".py",
   "mimetype": "text/x-python",
   "name": "python",
   "nbconvert_exporter": "python",
   "pygments_lexer": "ipython3",
   "version": "3.10.14"
  }
 },
 "nbformat": 4,
 "nbformat_minor": 5
}
