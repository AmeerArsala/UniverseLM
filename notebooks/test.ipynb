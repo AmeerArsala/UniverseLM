{
 "cells": [
  {
   "cell_type": "code",
   "execution_count": 1,
   "id": "9a4a3a05-a313-40e5-b4cb-f85df2bad40f",
   "metadata": {},
   "outputs": [],
   "source": [
    "import sys\n",
    "\n",
    "\n",
    "sys.path.insert(0, \"../\")"
   ]
  },
  {
   "cell_type": "code",
   "execution_count": 2,
   "id": "bf541abb-5278-4979-8b3b-0a9a8f8525c0",
   "metadata": {},
   "outputs": [
    {
     "name": "stdout",
     "output_type": "stream",
     "text": [
      "Using CUDA\n"
     ]
    },
    {
     "name": "stderr",
     "output_type": "stream",
     "text": [
      "/home/noctezeta/micromamba/envs/universe-lm/lib/python3.10/site-packages/huggingface_hub/file_download.py:1132: FutureWarning: `resume_download` is deprecated and will be removed in version 1.0.0. Downloads always resume when possible. If you want to force a new download, use `force_download=True`.\n",
      "  warnings.warn(\n",
      "/home/noctezeta/micromamba/envs/universe-lm/lib/python3.10/site-packages/langchain_core/_api/deprecation.py:119: LangChainDeprecationWarning: The class `HuggingFaceHub` was deprecated in LangChain 0.0.21 and will be removed in 0.3.0. Use HuggingFaceEndpoint instead.\n",
      "  warn_deprecated(\n"
     ]
    }
   ],
   "source": [
    "from typing import List, Dict\n",
    "from app.lib import society, states, users\n",
    "from app.core.schemas.entities import Chunk\n",
    "from app.core.schemas.info import Lore, Belonging"
   ]
  },
  {
   "cell_type": "code",
   "execution_count": 3,
   "id": "c1e06079-45f4-4519-8171-7d2e643810c1",
   "metadata": {},
   "outputs": [
    {
     "name": "stdout",
     "output_type": "stream",
     "text": [
      "User created.\n",
      "Community 1: test-community created.\n",
      "Community test-community joined by User.\n"
     ]
    }
   ],
   "source": [
    "user_email: str = \"aarsala@calpoly.edu\"\n",
    "community_name: str = \"test-community\"\n",
    "\n",
    "# Create User\n",
    "user_id: int = society.create_user(email=user_email)\n",
    "print(f\"User {user_id}: {user_email} created.\")\n",
    "\n",
    "# Create Community\n",
    "community_id: int = society.create_community(name=community_name)\n",
    "print(f\"Community {community_id}: {community_name} created.\")\n",
    "\n",
    "# Have User join Community\n",
    "society.join_community(user_email=user_email, community_name=community_name)\n",
    "print(f\"Community {community_name} joined by User.\")"
   ]
  },
  {
   "cell_type": "code",
   "execution_count": 3,
   "id": "0193a9ab-f7da-4083-98f2-1d080faa3e85",
   "metadata": {},
   "outputs": [
    {
     "name": "stdout",
     "output_type": "stream",
     "text": [
      "Community startup complete.\n"
     ]
    }
   ],
   "source": [
    "# Start up Community\n",
    "community_id: int = 1\n",
    "await states.startup(community_id=community_id)"
   ]
  },
  {
   "cell_type": "code",
   "execution_count": 3,
   "id": "d9cb20e1-05b2-4a43-975d-6e7e65245dfe",
   "metadata": {},
   "outputs": [
    {
     "name": "stdout",
     "output_type": "stream",
     "text": [
      "OUTPUT START\n",
      "[\n",
      "{\n",
      "\"Name\": \"Judd the Bounty Hunter\",\n",
      "\"Description\": \"A formidable and notorious bounty hunter known for his relentless pursuit of outlaws and his uncanny tracking abilities. He possesses great marksmanship and survival skills.\",\n",
      "\"Affiliation\": \"NONE\"\n",
      "},\n",
      "{\n",
      "\"Name\": \"Sam 'The Sheriff' Watson\",\n",
      "\"Description\": \"A renowned and respected sheriff in the community, known for his unwavering integrity and strong leadership. Sam enforces the law and maintains order in the town, gaining the trust of the locals.\",\n",
      "\"Affiliation\": \"NONE\"\n",
      "},\n",
      "{\n",
      "\"Name\": \"The Dalton Gang\",\n",
      "\"Description\": \"A group of mischievous and notorious outlaws who specialize in causing chaos and terrorizing towns. They are known for their quick fingers, sharp shooting, and daring robberies.\",\n",
      "\"Affiliation\": \"NONE\"\n",
      "},\n",
      "{\n",
      "\"Name\": \"Lila the Gunsmith\",\n",
      "\"Description\": \"A skilled and infamous gunsmith who provides precision-crafted weapons to both outlaws and law-abiding citizens. Her creations are highly sought after for their unique designs and deadly accuracy.\",\n",
      "\"Affiliation\": \"NONE\"\n",
      "},\n",
      "{\n",
      "\"Name\": \"The Saloon\",\n",
      "\"Description\": \"A lively establishment where locals gather to share tales, drink, and find solace from the hardships of the West. It serves as a microcosm of the town's vibrant yet rough-and-tumble culture.\",\n",
      "\"Affiliation\": \"NONE\"\n",
      "},\n",
      "{\n",
      "\"Name\": \"The Frontier Cabin\",\n",
      "\"Description\": \"A rustic and hardy cabin, deep in the heart of the wilderness, serves as a refuge for the mysterious figure, 'The Lone Drifter'. Known for its seclusion and the secrets that it holds.\",\n",
      "\"Affiliation\": \"NONE\"\n",
      "}\n",
      "]\n"
     ]
    }
   ],
   "source": [
    "# Make Chunks\n",
    "chunks: List[Chunk] = society.generate_chunks(community_id, desc=\"the wild west\")"
   ]
  },
  {
   "cell_type": "code",
   "execution_count": 4,
   "id": "75a1a941-bb14-4309-8f0c-00a4dcd9e3af",
   "metadata": {},
   "outputs": [
    {
     "data": {
      "text/plain": [
       "[Chunk(id=-1, name='Judd the Bounty Hunter', profile='A formidable and notorious bounty hunter known for his relentless pursuit of outlaws and his uncanny tracking abilities. He possesses great marksmanship and survival skills.', community_id=5, parent_chunk='NONE'),\n",
       " Chunk(id=-1, name=\"Sam 'The Sheriff' Watson\", profile='A renowned and respected sheriff in the community, known for his unwavering integrity and strong leadership. Sam enforces the law and maintains order in the town, gaining the trust of the locals.', community_id=5, parent_chunk='NONE'),\n",
       " Chunk(id=-1, name='The Dalton Gang', profile='A group of mischievous and notorious outlaws who specialize in causing chaos and terrorizing towns. They are known for their quick fingers, sharp shooting, and daring robberies.', community_id=5, parent_chunk='NONE'),\n",
       " Chunk(id=-1, name='Lila the Gunsmith', profile='A skilled and infamous gunsmith who provides precision-crafted weapons to both outlaws and law-abiding citizens. Her creations are highly sought after for their unique designs and deadly accuracy.', community_id=5, parent_chunk='NONE'),\n",
       " Chunk(id=-1, name='The Saloon', profile=\"A lively establishment where locals gather to share tales, drink, and find solace from the hardships of the West. It serves as a microcosm of the town's vibrant yet rough-and-tumble culture.\", community_id=5, parent_chunk='NONE'),\n",
       " Chunk(id=-1, name='The Frontier Cabin', profile=\"A rustic and hardy cabin, deep in the heart of the wilderness, serves as a refuge for the mysterious figure, 'The Lone Drifter'. Known for its seclusion and the secrets that it holds.\", community_id=5, parent_chunk='NONE')]"
      ]
     },
     "execution_count": 4,
     "metadata": {},
     "output_type": "execute_result"
    }
   ],
   "source": [
    "chunks"
   ]
  },
  {
   "cell_type": "code",
   "execution_count": 4,
   "id": "3985ceb9-bc41-4e24-98fa-8e8014f39f5e",
   "metadata": {},
   "outputs": [],
   "source": [
    "test_community_id: int = 1\n",
    "\n",
    "chunks: List[Chunk] = [Chunk(id=-1, name='Judd the Bounty Hunter', profile='A formidable and notorious bounty hunter known for his relentless pursuit of outlaws and his uncanny tracking abilities. He possesses great marksmanship and survival skills.', community_id=test_community_id, parent_chunk='NONE'),\n",
    " Chunk(id=-1, name=\"Sam 'The Sheriff' Watson\", profile='A renowned and respected sheriff in the community, known for his unwavering integrity and strong leadership. Sam enforces the law and maintains order in the town, gaining the trust of the locals.', community_id=test_community_id, parent_chunk='NONE'),\n",
    " Chunk(id=-1, name='The Dalton Gang', profile='A group of mischievous and notorious outlaws who specialize in causing chaos and terrorizing towns. They are known for their quick fingers, sharp shooting, and daring robberies.', community_id=test_community_id, parent_chunk='NONE'),\n",
    " Chunk(id=-1, name='Lila the Gunsmith', profile='A skilled and infamous gunsmith who provides precision-crafted weapons to both outlaws and law-abiding citizens. Her creations are highly sought after for their unique designs and deadly accuracy.', community_id=test_community_id, parent_chunk='NONE'),\n",
    " Chunk(id=-1, name='The Saloon', profile=\"A lively establishment where locals gather to share tales, drink, and find solace from the hardships of the West. It serves as a microcosm of the town's vibrant yet rough-and-tumble culture.\", community_id=test_community_id, parent_chunk='NONE'),\n",
    " Chunk(id=-1, name='The Frontier Cabin', profile=\"A rustic and hardy cabin, deep in the heart of the wilderness, serves as a refuge for the mysterious figure, 'The Lone Drifter'. Known for its seclusion and the secrets that it holds.\", community_id=test_community_id, parent_chunk='NONE')]"
   ]
  },
  {
   "cell_type": "code",
   "execution_count": 5,
   "id": "c34c5088-95cc-4b52-bbf3-108e23d65a62",
   "metadata": {},
   "outputs": [],
   "source": [
    "test_user_id: int = 1\n",
    "inhabited_chunk_name: str = \"Sam 'The Sheriff' Watson\""
   ]
  },
  {
   "cell_type": "code",
   "execution_count": 9,
   "id": "0da40300-5717-4f15-93d9-8cb94e52f289",
   "metadata": {},
   "outputs": [
    {
     "name": "stdout",
     "output_type": "stream",
     "text": [
      "{'id0': 454456629871209, 'name0': 'Judd the Bounty Hunter', 'profile0': 'A formidable and notorious bounty hunter known for his relentless pursuit of outlaws and his uncanny tracking abilities. He possesses great marksmanship and survival skills.', 'community_id0': 1, 'parent_chunk0': None}\n",
      "{'id1': 402141388418914, 'name1': \"Sam 'The Sheriff' Watson\", 'profile1': 'A renowned and respected sheriff in the community, known for his unwavering integrity and strong leadership. Sam enforces the law and maintains order in the town, gaining the trust of the locals.', 'community_id1': 1, 'parent_chunk1': None}\n",
      "{'id2': 719327691670344, 'name2': 'The Dalton Gang', 'profile2': 'A group of mischievous and notorious outlaws who specialize in causing chaos and terrorizing towns. They are known for their quick fingers, sharp shooting, and daring robberies.', 'community_id2': 1, 'parent_chunk2': None}\n",
      "{'id3': 638119273393243, 'name3': 'Lila the Gunsmith', 'profile3': 'A skilled and infamous gunsmith who provides precision-crafted weapons to both outlaws and law-abiding citizens. Her creations are highly sought after for their unique designs and deadly accuracy.', 'community_id3': 1, 'parent_chunk3': None}\n",
      "{'id4': 398576228518276, 'name4': 'The Saloon', 'profile4': \"A lively establishment where locals gather to share tales, drink, and find solace from the hardships of the West. It serves as a microcosm of the town's vibrant yet rough-and-tumble culture.\", 'community_id4': 1, 'parent_chunk4': None}\n",
      "{'id5': 135315770774007, 'name5': 'The Frontier Cabin', 'profile5': \"A rustic and hardy cabin, deep in the heart of the wilderness, serves as a refuge for the mysterious figure, 'The Lone Drifter'. Known for its seclusion and the secrets that it holds.\", 'community_id5': 1, 'parent_chunk5': None}\n"
     ]
    }
   ],
   "source": [
    "# Upload Chunks to DB\n",
    "society.create_chunks(chunks)"
   ]
  },
  {
   "cell_type": "code",
   "execution_count": 6,
   "id": "9b82dc07-2d40-4f46-93df-2d5897651ce2",
   "metadata": {},
   "outputs": [],
   "source": [
    "# Have User [locally] inhabit a Chunk\n",
    "users.inhabit_chunk(user_id=test_user_id, community_id=test_community_id, chunk_name=inhabited_chunk_name)"
   ]
  },
  {
   "cell_type": "code",
   "execution_count": 7,
   "id": "b963ca73-60e0-4d28-86d3-a4bc7531d916",
   "metadata": {},
   "outputs": [
    {
     "name": "stderr",
     "output_type": "stream",
     "text": [
      "/home/noctezeta/micromamba/envs/universe-lm/lib/python3.10/site-packages/huggingface_hub/file_download.py:1132: FutureWarning: `resume_download` is deprecated and will be removed in version 1.0.0. Downloads always resume when possible. If you want to force a new download, use `force_download=True`.\n",
      "  warnings.warn(\n"
     ]
    },
    {
     "name": "stdout",
     "output_type": "stream",
     "text": [
      "The token has not been saved to the git credentials helper. Pass `add_to_git_credential=True` in this function directly or `--add-to-git-credential` if using via `huggingface-cli` if you want to set the git credential as well.\n",
      "Token is valid (permission: write).\n",
      "Your token has been saved to /home/noctezeta/.cache/huggingface/token\n",
      "Login successful\n",
      "Generating response...\n",
      "Attempting lore update...\n",
      "Retrieving relevant info and responding...\n"
     ]
    },
    {
     "name": "stderr",
     "output_type": "stream",
     "text": [
      "/home/noctezeta/micromamba/envs/universe-lm/lib/python3.10/site-packages/huggingface_hub/file_download.py:1132: FutureWarning: `resume_download` is deprecated and will be removed in version 1.0.0. Downloads always resume when possible. If you want to force a new download, use `force_download=True`.\n",
      "  warnings.warn(\n"
     ]
    },
    {
     "name": "stdout",
     "output_type": "stream",
     "text": [
      "Well, I don't directly deal with law enforcement, but I've heard tales about a group of mischievous outlaws causing chaos and terrorizing towns. They're known for their quick fingers, sharp shooting, and daring robberies. If you're looking for someone specific, I might have heard something in the local saloon. It's a lively establishment where folks often share tales, and I've picked up useful information there before.\n"
     ]
    }
   ],
   "source": [
    "from app.lib.chat import AgentChat, AgentChatParams, manifest_chat\n",
    "\n",
    "\n",
    "async def chat_with_agent(community_id: int, chunk_name: str, user_id: int, message: str, stream_response: bool):\n",
    "    # manifest the chat from nothing or a cache\n",
    "    chat: AgentChat = manifest_chat(community_id, chunk_name, stream_response=stream_response)\n",
    "\n",
    "    # Get chat params based on which chunk the user is currently inhabiting\n",
    "    agent_chat_params: AgentChatParams = users.make_chat_input(user_id=user_id, message=message)\n",
    "    agent_chat_inputs: Dict = agent_chat_params.dict()\n",
    "\n",
    "    # Chat response\n",
    "    print(\"Generating response...\")\n",
    "    if stream_response:\n",
    "        chat.generate_chat_response_events(agent_chat_inputs, add_to_history=True, print_chunks=True)\n",
    "    else:\n",
    "        # not async\n",
    "        invocation = chat.invoke_chat(agent_chat_inputs, add_to_history=True)\n",
    "        response: str = invocation[\"answer\"]\n",
    "\n",
    "        print(response)\n",
    "\n",
    "# Have User chat with another Chunk\n",
    "chunk_to_talk_to: str = 'Lila the Gunsmith'\n",
    "\n",
    "await chat_with_agent(community_id=test_community_id, \n",
    "                chunk_name=chunk_to_talk_to, \n",
    "                user_id=test_user_id,\n",
    "                message=\"Hey, I'm looking for some wanted criminals\",\n",
    "                stream_response=False)"
   ]
  },
  {
   "cell_type": "code",
   "execution_count": null,
   "id": "aecc79d4-1acf-479f-8445-128036fee4e3",
   "metadata": {},
   "outputs": [],
   "source": [
    "# Check if the Lore was updated\n",
    "\n",
    "\n"
   ]
  },
  {
   "cell_type": "code",
   "execution_count": null,
   "id": "c509c5cf-4488-4a08-b418-051594d337ed",
   "metadata": {},
   "outputs": [],
   "source": [
    "# Chat with another Chunk to see if it is reacting to changing Lore\n",
    "\n",
    "\n"
   ]
  },
  {
   "cell_type": "code",
   "execution_count": null,
   "id": "fccfb0a6-6b14-4b19-8d43-409337ee8a07",
   "metadata": {},
   "outputs": [],
   "source": [
    "# Upload Lore and Belongings, then do the same thing\n",
    "\n",
    "\n"
   ]
  },
  {
   "cell_type": "code",
   "execution_count": null,
   "id": "b88d1c35-5fd9-4b95-b27b-bd3c3d9d2f8a",
   "metadata": {},
   "outputs": [],
   "source": [
    "# Summarize Chunk\n",
    "\n"
   ]
  },
  {
   "cell_type": "code",
   "execution_count": null,
   "id": "ee9ecbfb-334a-417e-b117-75eed37bd810",
   "metadata": {},
   "outputs": [],
   "source": [
    "# Reset Community"
   ]
  }
 ],
 "metadata": {
  "kernelspec": {
   "display_name": "Python 3 (ipykernel)",
   "language": "python",
   "name": "python3"
  },
  "language_info": {
   "codemirror_mode": {
    "name": "ipython",
    "version": 3
   },
   "file_extension": ".py",
   "mimetype": "text/x-python",
   "name": "python",
   "nbconvert_exporter": "python",
   "pygments_lexer": "ipython3",
   "version": "3.10.14"
  }
 },
 "nbformat": 4,
 "nbformat_minor": 5
}
