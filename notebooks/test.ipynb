{
 "cells": [
  {
   "cell_type": "code",
   "execution_count": 1,
   "id": "9a4a3a05-a313-40e5-b4cb-f85df2bad40f",
   "metadata": {},
   "outputs": [],
   "source": [
    "import sys\n",
    "\n",
    "\n",
    "sys.path.insert(0, \"../\")"
   ]
  },
  {
   "cell_type": "code",
   "execution_count": 2,
   "id": "c1e06079-45f4-4519-8171-7d2e643810c1",
   "metadata": {},
   "outputs": [
    {
     "name": "stderr",
     "output_type": "stream",
     "text": [
      "/home/noctezeta/micromamba/envs/universe-lm/lib/python3.9/site-packages/langchain_core/_api/deprecation.py:119: LangChainDeprecationWarning: The class `HuggingFaceHub` was deprecated in LangChain 0.0.21 and will be removed in 0.3.0. Use HuggingFaceEndpoint instead.\n",
      "  warn_deprecated(\n"
     ]
    },
    {
     "name": "stdout",
     "output_type": "stream",
     "text": [
      "User created.\n",
      "Community 2 created.\n"
     ]
    },
    {
     "ename": "TypeError",
     "evalue": "execute() got an unexpected keyword argument 'email'",
     "output_type": "error",
     "traceback": [
      "\u001b[0;31m---------------------------------------------------------------------------\u001b[0m",
      "\u001b[0;31mTypeError\u001b[0m                                 Traceback (most recent call last)",
      "Cell \u001b[0;32mIn[2], line 18\u001b[0m\n\u001b[1;32m     15\u001b[0m \u001b[38;5;28mprint\u001b[39m(\u001b[38;5;124mf\u001b[39m\u001b[38;5;124m\"\u001b[39m\u001b[38;5;124mCommunity \u001b[39m\u001b[38;5;132;01m{\u001b[39;00mcommunity_id\u001b[38;5;132;01m}\u001b[39;00m\u001b[38;5;124m created.\u001b[39m\u001b[38;5;124m\"\u001b[39m)\n\u001b[1;32m     17\u001b[0m \u001b[38;5;66;03m# Have User join Community\u001b[39;00m\n\u001b[0;32m---> 18\u001b[0m \u001b[43msociety\u001b[49m\u001b[38;5;241;43m.\u001b[39;49m\u001b[43mjoin_community\u001b[49m\u001b[43m(\u001b[49m\u001b[43muser_email\u001b[49m\u001b[38;5;241;43m=\u001b[39;49m\u001b[43muser_email\u001b[49m\u001b[43m,\u001b[49m\u001b[43m \u001b[49m\u001b[43mcommunity_name\u001b[49m\u001b[38;5;241;43m=\u001b[39;49m\u001b[43mcommunity_name\u001b[49m\u001b[43m)\u001b[49m\n\u001b[1;32m     19\u001b[0m \u001b[38;5;28mprint\u001b[39m(\u001b[38;5;124m\"\u001b[39m\u001b[38;5;124mCommunity joined by User.\u001b[39m\u001b[38;5;124m\"\u001b[39m)\n",
      "File \u001b[0;32m~/Content/Projects/UniverseLM/notebooks/../app/lib/society.py:80\u001b[0m, in \u001b[0;36mjoin_community\u001b[0;34m(user_email, community_name)\u001b[0m\n\u001b[1;32m     77\u001b[0m \u001b[38;5;28;01mdef\u001b[39;00m \u001b[38;5;21mjoin_community\u001b[39m(user_email: \u001b[38;5;28mstr\u001b[39m, community_name: \u001b[38;5;28mstr\u001b[39m):\n\u001b[1;32m     78\u001b[0m     \u001b[38;5;28;01mwith\u001b[39;00m db\u001b[38;5;241m.\u001b[39mengine\u001b[38;5;241m.\u001b[39mbegin() \u001b[38;5;28;01mas\u001b[39;00m conn:\n\u001b[1;32m     79\u001b[0m         \u001b[38;5;66;03m# First get the user_id and community_id\u001b[39;00m\n\u001b[0;32m---> 80\u001b[0m         user_id: \u001b[38;5;28mint\u001b[39m \u001b[38;5;241m=\u001b[39m \u001b[43mconn\u001b[49m\u001b[38;5;241;43m.\u001b[39;49m\u001b[43mexecute\u001b[49m\u001b[43m(\u001b[49m\n\u001b[1;32m     81\u001b[0m \u001b[43m            \u001b[49m\u001b[43msqlalchemy\u001b[49m\u001b[38;5;241;43m.\u001b[39;49m\u001b[43mtext\u001b[49m\u001b[43m(\u001b[49m\u001b[38;5;124;43m\"\u001b[39;49m\u001b[38;5;124;43mSELECT id FROM users WHERE email = :email\u001b[39;49m\u001b[38;5;124;43m\"\u001b[39;49m\u001b[43m)\u001b[49m\u001b[43m,\u001b[49m\n\u001b[1;32m     82\u001b[0m \u001b[43m            \u001b[49m\u001b[43memail\u001b[49m\u001b[38;5;241;43m=\u001b[39;49m\u001b[43muser_email\u001b[49m\u001b[43m,\u001b[49m\n\u001b[1;32m     83\u001b[0m \u001b[43m        \u001b[49m\u001b[43m)\u001b[49m\u001b[38;5;241m.\u001b[39mfirst()[\u001b[38;5;241m0\u001b[39m]\n\u001b[1;32m     85\u001b[0m         community_id: \u001b[38;5;28mint\u001b[39m \u001b[38;5;241m=\u001b[39m conn\u001b[38;5;241m.\u001b[39mexecute(\n\u001b[1;32m     86\u001b[0m             sqlalchemy\u001b[38;5;241m.\u001b[39mtext(\u001b[38;5;124m\"\u001b[39m\u001b[38;5;124mSELECT id FROM communities WHERE name = :name\u001b[39m\u001b[38;5;124m\"\u001b[39m),\n\u001b[1;32m     87\u001b[0m             [{\u001b[38;5;124m\"\u001b[39m\u001b[38;5;124mname\u001b[39m\u001b[38;5;124m\"\u001b[39m: community_name}],\n\u001b[1;32m     88\u001b[0m         )\u001b[38;5;241m.\u001b[39mfirst()[\u001b[38;5;241m0\u001b[39m]\n\u001b[1;32m     90\u001b[0m         \u001b[38;5;66;03m# Now link the user and the community by inserting them into the junction table\u001b[39;00m\n",
      "\u001b[0;31mTypeError\u001b[0m: execute() got an unexpected keyword argument 'email'"
     ]
    }
   ],
   "source": [
    "from app.lib import society, states\n",
    "from app.core.schemas.entities import Chunk\n",
    "from app.core.schemas.info import Lore, Belonging\n",
    "\n",
    "\n",
    "user_email: str = \"aarsala@calpoly.edu\"\n",
    "community_name: str = \"test-community\"\n",
    "\n",
    "# Create User\n",
    "society.create_user(email=user_email)\n",
    "print(\"User created.\")\n",
    "\n",
    "# Create Community\n",
    "community_id: int = society.create_community(name=community_name)\n",
    "print(f\"Community {community_id} created.\")\n",
    "\n",
    "# Have User join Community\n",
    "society.join_community(user_email=user_email, community_name=community_name)\n",
    "print(\"Community joined by User.\")"
   ]
  },
  {
   "cell_type": "code",
   "execution_count": 3,
   "id": "5a9e1efb-ccf3-4495-991b-674306cdbcd3",
   "metadata": {},
   "outputs": [
    {
     "ename": "NameError",
     "evalue": "name 'community_id' is not defined",
     "output_type": "error",
     "traceback": [
      "\u001b[0;31m---------------------------------------------------------------------------\u001b[0m",
      "\u001b[0;31mNameError\u001b[0m                                 Traceback (most recent call last)",
      "Cell \u001b[0;32mIn[3], line 1\u001b[0m\n\u001b[0;32m----> 1\u001b[0m \u001b[43mcommunity_id\u001b[49m\n",
      "\u001b[0;31mNameError\u001b[0m: name 'community_id' is not defined"
     ]
    }
   ],
   "source": [
    "community_id"
   ]
  },
  {
   "cell_type": "code",
   "execution_count": null,
   "id": "d9cb20e1-05b2-4a43-975d-6e7e65245dfe",
   "metadata": {},
   "outputs": [],
   "source": []
  }
 ],
 "metadata": {
  "kernelspec": {
   "display_name": "Python 3 (ipykernel)",
   "language": "python",
   "name": "python3"
  },
  "language_info": {
   "codemirror_mode": {
    "name": "ipython",
    "version": 3
   },
   "file_extension": ".py",
   "mimetype": "text/x-python",
   "name": "python",
   "nbconvert_exporter": "python",
   "pygments_lexer": "ipython3",
   "version": "3.9.19"
  }
 },
 "nbformat": 4,
 "nbformat_minor": 5
}
